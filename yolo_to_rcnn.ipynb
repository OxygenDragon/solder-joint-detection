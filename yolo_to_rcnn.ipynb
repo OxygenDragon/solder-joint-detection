{
 "metadata": {
  "language_info": {
   "codemirror_mode": {
    "name": "ipython",
    "version": 3
   },
   "file_extension": ".py",
   "mimetype": "text/x-python",
   "name": "python",
   "nbconvert_exporter": "python",
   "pygments_lexer": "ipython3",
   "version": "3.8.5"
  },
  "orig_nbformat": 2,
  "kernelspec": {
   "name": "python385jvsc74a57bd0e7370f93d1d0cde622a1f8e1c04877d8463912d04d973331ad4851f04de6915a",
   "display_name": "Python 3.8.5 64-bit"
  },
  "metadata": {
   "interpreter": {
    "hash": "e7370f93d1d0cde622a1f8e1c04877d8463912d04d973331ad4851f04de6915a"
   }
  }
 },
 "nbformat": 4,
 "nbformat_minor": 2,
 "cells": [
  {
   "cell_type": "code",
   "execution_count": 1,
   "metadata": {},
   "outputs": [],
   "source": [
    "from os import listdir\n",
    "from PIL import Image\n",
    "from os.path import isfile, join\n",
    "\n",
    "# origin_ann_url = '/home/user/PCB/slice_annotation/'\n",
    "# rcnn_ann_url = '/home/user/PCB/rcnn_ann.csv'\n",
    "# file_path = '/home/user/PCB/slice_img/'\n",
    "\n",
    "origin_ann_url = './slice_annotation/'\n",
    "rcnn_ann_url = './rcnn_ann.csv'\n",
    "file_path = './slice_img/'"
   ]
  },
  {
   "cell_type": "code",
   "execution_count": 12,
   "metadata": {},
   "outputs": [],
   "source": [
    "def yolo_rcnn_conversion(img_name, ann_strs):\n",
    "    img_path = ''\n",
    "    new_anns = ''\n",
    "    if len(img_name) < 3:\n",
    "        img_path = file_path + img_name + '.jpg'\n",
    "    else:\n",
    "        img_path = file_path + img_name + '.png'\n",
    "    \n",
    "    img = Image.open(img_path)\n",
    "    w, h = img.size\n",
    "    for ann_str in ann_strs:\n",
    "        (class_name, center_x, center_y, width, height) = ann_str.split(' ')\n",
    "\n",
    "        top_left_x = (float(center_x) * w) - (float(width) * w / 2)\n",
    "        top_left_y = (float(center_y) * h) - (float(height) * h / 2)\n",
    "        bottom_right_x = (float(center_x) * w) + (float(width) * w / 2)\n",
    "        bottom_right_y = (float(center_y) * h) + (float(height) * h / 2)\n",
    "\n",
    "        rcnn_ann = []\n",
    "        rcnn_ann.append(img_path)\n",
    "        rcnn_ann.append(str(top_left_x))\n",
    "        rcnn_ann.append(str(top_left_y))\n",
    "        rcnn_ann.append(str(bottom_right_x))\n",
    "        rcnn_ann.append(str(bottom_right_y))\n",
    "        rcnn_ann.append('normal' if class_name == '1' else 'defect')\n",
    "\n",
    "        new_ann = ','.join(rcnn_ann)\n",
    "        new_ann += '\\n'\n",
    "\n",
    "        new_anns += new_ann\n",
    "    return new_anns\n",
    "\n",
    "    "
   ]
  },
  {
   "cell_type": "code",
   "execution_count": 13,
   "metadata": {},
   "outputs": [],
   "source": [
    "\n",
    "onlyfiles = [f for f in listdir(origin_ann_url) if isfile(join(origin_ann_url, f))]\n",
    "f = open(rcnn_ann_url, 'a+')\n",
    "for filename in onlyfiles:\n",
    "  ann_file = open(origin_ann_url+filename, 'r')\n",
    "  anns = ann_file.readlines()\n",
    "  file_num = filename[:-4]\n",
    "  new_anns = yolo_rcnn_conversion(file_num, anns)\n",
    "  f.write(new_anns)\n",
    "f.close()\n",
    "  "
   ]
  },
  {
   "cell_type": "code",
   "execution_count": null,
   "metadata": {},
   "outputs": [],
   "source": []
  }
 ]
}