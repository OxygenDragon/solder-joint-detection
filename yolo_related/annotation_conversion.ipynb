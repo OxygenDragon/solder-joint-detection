{
 "cells": [
  {
   "cell_type": "code",
   "execution_count": 8,
   "metadata": {},
   "outputs": [],
   "source": [
    "from os import listdir, rename\n",
    "from os.path import isfile, join\n",
    "\n",
    "annotation_url = 'annotations/nonormal/'\n",
    "\n",
    "onlyfiles = [f for f in listdir(annotation_url) if isfile(join(annotation_url, f))]\n",
    "for file_name in onlyfiles:\n",
    "    f = open(annotation_url + file_name, 'r')\n",
    "    a = open(annotation_url + file_name[:-4] + \"_2.txt\", 'a')\n",
    "    lines = f.readlines()\n",
    "    for line in lines:\n",
    "        split = line.split()\n",
    "        if split[0] == '0' or split[0] == '4':\n",
    "            continue\n",
    "        if split[0] == '1':\n",
    "            split[0] = '0'\n",
    "        elif split[0] == '2':\n",
    "            split[0] = '1'\n",
    "        elif split[0] == '3':\n",
    "            split[0] = '2'\n",
    "        elif split[0] == '5':\n",
    "            split[0] = '3'\n",
    "\n",
    "        split_string = ' '.join(split)\n",
    "        split_string += '\\n'\n",
    "        a.write(split_string)\n",
    "    f.close()\n",
    "    a.close()\n",
    "    \n",
    "    #rename\n",
    "    rename(annotation_url + file_name[:-4] + \"_2.txt\", annotation_url + file_name)"
   ]
  },
  {
   "cell_type": "code",
   "execution_count": 2,
   "metadata": {},
   "outputs": [],
   "source": [
    "from os import listdir, rename\n",
    "from os.path import isfile, join\n",
    "annotation_url = 'annotations/nonormal/'\n",
    "\n",
    "# delete cold joint\n",
    "onlyfiles = [f for f in listdir(annotation_url) if isfile(join(annotation_url, f))]\n",
    "for file_name in onlyfiles:\n",
    "    f = open(annotation_url + file_name, 'r')\n",
    "    a = open(annotation_url + file_name[:-4] + \"_2.txt\", 'a')\n",
    "    lines = f.readlines()\n",
    "    for line in lines:\n",
    "        split = line.split()\n",
    "        if split[0] == '0':\n",
    "            continue\n",
    "        if split[0] == '1':\n",
    "            split[0] = '0'\n",
    "        elif split[0] == '2':\n",
    "            split[0] = '1'\n",
    "        elif split[0] == '3':\n",
    "            split[0] = '2'\n",
    "        split_string = ' '.join(split)\n",
    "        split_string += '\\n'\n",
    "        a.write(split_string)\n",
    "    f.close()\n",
    "    a.close()\n",
    "    \n",
    "    #rename\n",
    "    rename(annotation_url + file_name[:-4] + \"_2.txt\", annotation_url + file_name)"
   ]
  }
 ],
 "metadata": {
  "kernelspec": {
   "name": "python3",
   "display_name": "Python 3.9.5 64-bit"
  },
  "language_info": {
   "codemirror_mode": {
    "name": "ipython",
    "version": 3
   },
   "file_extension": ".py",
   "mimetype": "text/x-python",
   "name": "python",
   "nbconvert_exporter": "python",
   "pygments_lexer": "ipython3",
   "version": "3.9.6"
  },
  "interpreter": {
   "hash": "e7370f93d1d0cde622a1f8e1c04877d8463912d04d973331ad4851f04de6915a"
  }
 },
 "nbformat": 4,
 "nbformat_minor": 4
}